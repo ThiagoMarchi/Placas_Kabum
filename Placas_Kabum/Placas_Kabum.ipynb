{
 "cells": [
  {
   "cell_type": "code",
   "execution_count": 1,
   "id": "3d08c4fb-ddf2-4329-805c-8e5150c99675",
   "metadata": {},
   "outputs": [],
   "source": [
    "from selenium import webdriver\n",
    "from selenium.webdriver.chrome.options import Options\n",
    "from time import sleep\n",
    "import csv\n",
    "\n",
    "#URL\n",
    "url = 'https://www.kabum.com.br/hardware/placa-de-video-vga'\n",
    "\n",
    "option = Options()\n",
    "option.headless = True\n",
    "driver = webdriver.Chrome(options=option)\n",
    "\n",
    "driver.get(url)"
   ]
  },
  {
   "cell_type": "code",
   "execution_count": 6,
   "id": "c2c1954a-8f02-4b2b-9fd8-1a3a6091113f",
   "metadata": {},
   "outputs": [],
   "source": [
    "with open('Placas_Kabum.csv', 'a', newline='', encoding='utf-8') as file:\n",
    "    fieldnames = ['Imagem', 'Nome', 'Preco']\n",
    "    writer = csv.DictWriter(file, fieldnames = fieldnames)\n",
    "    writer.writeheader()\n",
    "    for c in range(1, 21):\n",
    "        try:\n",
    "            imagem = driver.find_element('xpath', f'//*[@id=\"listing\"]/div[3]/div/div/div[2]/div/main/article[{c}]/a/img').get_attribute('src')\n",
    "            \n",
    "            nome = driver.find_element('xpath', f'//*[@id=\"listing\"]/div[3]/div/div/div[2]/div/main/article[{c}]/a/div/button/div/h3/span').text\n",
    "            \n",
    "            preco = driver.find_element('xpath', f'//*[@id=\"listing\"]/div[3]/div/div/div[2]/div/main/article[{c}]/a/div/div/span[2]').text\n",
    "            \n",
    "        except:\n",
    "            print('Não foi possível extrair as informações')\n",
    "        writer.writerow({'Imagem': imagem, 'Nome': nome, 'Preco': preco})"
   ]
  }
 ],
 "metadata": {
  "kernelspec": {
   "display_name": "Python 3 (ipykernel)",
   "language": "python",
   "name": "python3"
  },
  "language_info": {
   "codemirror_mode": {
    "name": "ipython",
    "version": 3
   },
   "file_extension": ".py",
   "mimetype": "text/x-python",
   "name": "python",
   "nbconvert_exporter": "python",
   "pygments_lexer": "ipython3",
   "version": "3.12.4"
  }
 },
 "nbformat": 4,
 "nbformat_minor": 5
}
